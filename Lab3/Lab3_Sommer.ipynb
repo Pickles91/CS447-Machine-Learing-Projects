{
 "cells": [
  {
   "cell_type": "code",
   "execution_count": 1,
   "id": "1a6a76a6",
   "metadata": {},
   "outputs": [],
   "source": [
    "# Adapted from example on doc pages here: https://scikit-learn.org/stable/modules/tree.html\n",
    "#   and here: https://scikit-learn.org/stable/modules/generated/sklearn.tree.DecisionTreeClassifier.html\n",
    "# Refer to these pages for more info on the Decision Tree classifier."
   ]
  },
  {
   "cell_type": "code",
   "execution_count": 2,
   "id": "67512271",
   "metadata": {},
   "outputs": [
    {
     "data": {
      "text/plain": [
       "'\\nSteve Sommer\\nLab3: Decision Tree Practice\\nDue: Due on Oct 13, 2023 11:59 PM\\n'"
      ]
     },
     "execution_count": 2,
     "metadata": {},
     "output_type": "execute_result"
    }
   ],
   "source": [
    "# TODO: Change to your name, the assignment name, and due date\n",
    "'''\n",
    "Steve Sommer\n",
    "Lab3: Decision Tree Practice\n",
    "Due: Due on Oct 13, 2023 11:59 PM\n",
    "'''\n",
    "# \"I am superior, sir, in many ways, but I would gladly give it up to be human.\" - Data"
   ]
  },
  {
   "cell_type": "code",
   "execution_count": 56,
   "id": "fe640e3d",
   "metadata": {},
   "outputs": [],
   "source": [
    "import math\n",
    "from sklearn import tree\n",
    "from sklearn import metrics\n",
    "from sklearn.metrics import RocCurveDisplay"
   ]
  },
  {
   "cell_type": "code",
   "execution_count": 57,
   "id": "e2ac95a5",
   "metadata": {},
   "outputs": [],
   "source": [
    "# TODO: Open the titanic.csv file for reading\n",
    "fin = open(\"titanic.csv\",\"r\")"
   ]
  },
  {
   "cell_type": "code",
   "execution_count": 58,
   "id": "700ed214",
   "metadata": {},
   "outputs": [],
   "source": [
    "# Skip header line\n",
    "feat_names = fin.readline().strip().split(\",\")\n",
    "feat_names = feat_names[1:2] + feat_names[4:]"
   ]
  },
  {
   "cell_type": "code",
   "execution_count": 59,
   "id": "85750ea2",
   "metadata": {},
   "outputs": [
    {
     "data": {
      "text/plain": [
       "['Pclass', 'Age', 'Siblings/Spouses Aboard', 'Parents/Children Aboard', 'Fare']"
      ]
     },
     "execution_count": 59,
     "metadata": {},
     "output_type": "execute_result"
    }
   ],
   "source": [
    "feat_names"
   ]
  },
  {
   "cell_type": "code",
   "execution_count": 60,
   "id": "199a8408",
   "metadata": {},
   "outputs": [],
   "source": [
    "# TODO: Read all lines into an array of instances. Skip the name and gender features.\n",
    "all_inst = []\n",
    "for line in fin:\n",
    "    all_feat = line.strip().split(\",\")\n",
    "    feat_no_name_gender = all_feat[:2] + all_feat[4:]\n",
    "    all_inst.append(feat_no_name_gender)\n"
   ]
  },
  {
   "cell_type": "code",
   "execution_count": 61,
   "id": "87fab9fd",
   "metadata": {},
   "outputs": [
    {
     "name": "stdout",
     "output_type": "stream",
     "text": [
      "['0', '3', '22', '1', '0', '7.25']\n"
     ]
    }
   ],
   "source": [
    "print(all_inst[0])"
   ]
  },
  {
   "cell_type": "code",
   "execution_count": 62,
   "id": "b0b534af",
   "metadata": {},
   "outputs": [
    {
     "data": {
      "text/plain": [
       "887"
      ]
     },
     "execution_count": 62,
     "metadata": {},
     "output_type": "execute_result"
    }
   ],
   "source": [
    "len(all_inst)"
   ]
  },
  {
   "cell_type": "code",
   "execution_count": 63,
   "id": "0d8b758b",
   "metadata": {},
   "outputs": [],
   "source": [
    "# TODO: Use a 75-25 training and testing split. \n",
    "# First 75% of instances are for training.\n",
    "# Remaining 25% are for testing.\n",
    "# Determine a cutoff point. You'll need to round \n",
    "#    up to nearest whole number with math.ceil()\n",
    "cutoff = math.ceil(0.75*len(all_inst))"
   ]
  },
  {
   "cell_type": "code",
   "execution_count": 64,
   "id": "6e59f212",
   "metadata": {},
   "outputs": [
    {
     "name": "stdout",
     "output_type": "stream",
     "text": [
      "666\n",
      "221\n"
     ]
    }
   ],
   "source": [
    "# Now break up training and testing set based on cutoff.\n",
    "train_set = all_inst[:cutoff] #TODO: Finish this declaration\n",
    "test_set =  all_inst[cutoff:] #TODO: Finish this declaration\n",
    "\n",
    "print(len(train_set))\n",
    "print(len(test_set))"
   ]
  },
  {
   "cell_type": "code",
   "execution_count": 65,
   "id": "48188df1",
   "metadata": {},
   "outputs": [
    {
     "name": "stdout",
     "output_type": "stream",
     "text": [
      "['3', '22', '1', '0', '7.25']\n",
      "0\n"
     ]
    }
   ],
   "source": [
    "# Will need to break up each training instance into \n",
    "#   feature vector and label.\n",
    "X_train = [train_set[i][1:] for i in range(len(train_set))]\n",
    "y_train = [int(train_set[i][0]) for i in range(len(train_set))]\n",
    "print(X_train[0])\n",
    "print(y_train[0])"
   ]
  },
  {
   "cell_type": "code",
   "execution_count": 66,
   "id": "8a0801fc",
   "metadata": {},
   "outputs": [
    {
     "name": "stdout",
     "output_type": "stream",
     "text": [
      "['1', '48', '1', '0', '52']\n",
      "1\n"
     ]
    }
   ],
   "source": [
    "# Do the same for test instances.\n",
    "X_test = [test_set[i][1:] for i in range(len(test_set))] #TODO: Finish this declaration\n",
    "y_test = [int(test_set[i][0]) for i in range(len(test_set))]#TODO: Finish this one as well\n",
    "print(X_test[0])\n",
    "print(y_test[0])"
   ]
  },
  {
   "cell_type": "code",
   "execution_count": 76,
   "id": "2b138f5e",
   "metadata": {},
   "outputs": [],
   "source": [
    "# Create a decision tree and train using the titanic data.\n",
    "myTree = tree.DecisionTreeClassifier(criterion='gini', \n",
    "                                     splitter='best', \n",
    "                                     max_depth=None, \n",
    "                                     min_samples_split=2, \n",
    "                                     min_samples_leaf=1, \n",
    "                                     min_weight_fraction_leaf=0.0, \n",
    "                                     max_features=None, \n",
    "                                     random_state=None, \n",
    "                                     max_leaf_nodes=None, \n",
    "                                     min_impurity_decrease=0.0, \n",
    "                                     class_weight=None, \n",
    "                                     ccp_alpha=0.0)\n",
    "myTree = myTree.fit(X_train, y_train)"
   ]
  },
  {
   "cell_type": "code",
   "execution_count": 77,
   "id": "24f89619",
   "metadata": {},
   "outputs": [],
   "source": [
    "# Do a prediction using trained model\n",
    "preds = myTree.predict(X_test)"
   ]
  },
  {
   "cell_type": "code",
   "execution_count": 78,
   "id": "cb17a56d",
   "metadata": {},
   "outputs": [
    {
     "data": {
      "text/plain": [
       "array([0, 0, 1, 0, 1, 0, 1, 0, 0, 0, 1, 0, 0, 0, 0, 0, 1, 0, 0, 1, 0, 1,\n",
       "       1, 1, 0, 0, 1, 0, 0, 1, 0, 0, 1, 0, 0, 1, 0, 0, 1, 0, 1, 1, 0, 0,\n",
       "       1, 1, 0, 1, 0, 1, 1, 0, 1, 0, 0, 0, 0, 0, 1, 1, 0, 1, 0, 0, 0, 0,\n",
       "       0, 1, 0, 0, 1, 1, 1, 1, 0, 0, 0, 0, 1, 1, 1, 1, 1, 0, 1, 1, 0, 0,\n",
       "       0, 1, 0, 0, 0, 1, 1, 1, 1, 0, 1, 0, 0, 0, 1, 0, 0, 1, 1, 1, 0, 1,\n",
       "       0, 1, 0, 0, 0, 0, 0, 0, 1, 0, 1, 1, 0, 1, 0, 0, 1, 0, 0, 1, 1, 0,\n",
       "       1, 0, 0, 1, 0, 1, 0, 1, 1, 0, 1, 0, 0, 0, 0, 0, 0, 0, 0, 0, 0, 1,\n",
       "       0, 0, 1, 1, 0, 1, 0, 1, 0, 0, 0, 1, 0, 0, 1, 0, 1, 1, 0, 0, 0, 0,\n",
       "       0, 0, 0, 1, 0, 0, 1, 1, 0, 0, 0, 0, 1, 0, 0, 1, 1, 0, 0, 0, 1, 1,\n",
       "       0, 1, 0, 1, 0, 0, 1, 0, 0, 0, 0, 0, 1, 0, 0, 0, 0, 0, 0, 1, 0, 1,\n",
       "       1])"
      ]
     },
     "execution_count": 78,
     "metadata": {},
     "output_type": "execute_result"
    }
   ],
   "source": [
    "preds"
   ]
  },
  {
   "cell_type": "code",
   "execution_count": 70,
   "id": "c84bd777",
   "metadata": {},
   "outputs": [
    {
     "data": {
      "text/plain": [
       "0.6334841628959276"
      ]
     },
     "execution_count": 70,
     "metadata": {},
     "output_type": "execute_result"
    }
   ],
   "source": [
    "# Figure out the accuracy of predictions. How is this calculated? \n",
    "# Also, why could this be a misleading score?\n",
    "metrics.accuracy_score(y_test,preds)"
   ]
  },
  {
   "cell_type": "code",
   "execution_count": 71,
   "id": "51cacbdb",
   "metadata": {},
   "outputs": [
    {
     "data": {
      "text/plain": [
       "<sklearn.metrics._plot.roc_curve.RocCurveDisplay at 0x162686450>"
      ]
     },
     "execution_count": 71,
     "metadata": {},
     "output_type": "execute_result"
    },
    {
     "data": {
      "image/png": "[encoded data removed]",
      "text/plain": [
       "<Figure size 640x480 with 1 Axes>"
      ]
     },
     "metadata": {},
     "output_type": "display_data"
    }
   ],
   "source": [
    "# Alternative: Use ROC curve\n",
    "RocCurveDisplay.from_estimator(myTree, X_test, y_test) "
   ]
  },
  {
   "cell_type": "code",
   "execution_count": 72,
   "id": "144ea69f",
   "metadata": {},
   "outputs": [
    {
     "name": "stdout",
     "output_type": "stream",
     "text": [
      "5\n"
     ]
    }
   ],
   "source": [
    "# TODO: Using the doc pages above and your trained tree classifier,\n",
    "#       find the number of features the model was trained on.\n",
    "print(len(X_train[0]))"
   ]
  },
  {
   "cell_type": "code",
   "execution_count": 73,
   "id": "b10ae4fd",
   "metadata": {},
   "outputs": [
    {
     "name": "stdout",
     "output_type": "stream",
     "text": [
      "array[0.11393757 0.4143659  0.04884494 0.05325094 0.36960066]\n"
     ]
    }
   ],
   "source": [
    "# TODO: Again, using your trained model and the docs,\n",
    "#         find the feature importances for all the features.\n",
    "import numpy as np\n",
    "feature_importances_ = myTree.feature_importances_\n",
    "print(f\"array{feature_importances_}\")"
   ]
  },
  {
   "cell_type": "code",
   "execution_count": 74,
   "id": "5341b355",
   "metadata": {},
   "outputs": [],
   "source": [
    "# TODO: Now, repeat your analysis from above (do NOT overwrite your work above).\n",
    "#       This time, try changing the splitting criterion in your model. Re-run\n",
    "#         your training, testing, and me. How do your results change, if at all?"
   ]
  },
  {
   "cell_type": "code",
   "execution_count": null,
   "id": "4fa4e2ea",
   "metadata": {},
   "outputs": [],
   "source": []
  }
 ],
 "metadata": {
  "kernelspec": {
   "display_name": "Python 3 (ipykernel)",
   "language": "python",
   "name": "python3"
  },
  "language_info": {
   "codemirror_mode": {
    "name": "ipython",
    "version": 3
   },
   "file_extension": ".py",
   "mimetype": "text/x-python",
   "name": "python",
   "nbconvert_exporter": "python",
   "pygments_lexer": "ipython3",
   "version": "3.11.4"
  }
 },
 "nbformat": 4,
 "nbformat_minor": 5
}
