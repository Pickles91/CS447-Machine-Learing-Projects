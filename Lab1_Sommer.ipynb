{
 "cells": [
  {
   "cell_type": "code",
   "execution_count": 1,
   "id": "67512271",
   "metadata": {},
   "outputs": [
    {
     "data": {
      "text/plain": [
       "'\\nSteven Sommer \\nCS405 Lab1  \\nSep 8, 2023\\n'"
      ]
     },
     "execution_count": 1,
     "metadata": {},
     "output_type": "execute_result"
    }
   ],
   "source": [
    "# TODO: Make a multi-line comment that includes your name, the assignment name, and due date\n",
    "'''\n",
    "Steven Sommer \n",
    "CS405 Lab1  \n",
    "Sep 8, 2023\n",
    "'''"
   ]
  },
  {
   "cell_type": "code",
   "execution_count": 2,
   "id": "40766738",
   "metadata": {},
   "outputs": [
    {
     "name": "stdout",
     "output_type": "stream",
     "text": [
      "[1, 2, 3, 4, 5]\n"
     ]
    }
   ],
   "source": [
    "# TODO: Create a list to hold a bunch of integers\n",
    "my_list = [1, 2, 3, 4, 5]\n",
    "print(my_list)"
   ]
  },
  {
   "cell_type": "code",
   "execution_count": 3,
   "id": "6a90e68a",
   "metadata": {},
   "outputs": [
    {
     "name": "stdout",
     "output_type": "stream",
     "text": [
      "[1, 2, 3, 4, 5, 6, 8, 10, 12, 14, 16, 18, 20, 22, 24, 26, 28, 30, 32, 34, 36, 38, 40, 42, 44, 46, 48, 50, 52, 54, 56, 58, 60, 62, 64, 66, 68, 70, 72, 74, 76, 78, 80, 82, 84, 86, 88, 90, 92, 94, 96, 98, 100]\n"
     ]
    }
   ],
   "source": [
    "# TODO: Add even integers between 6 and 100 (inclusive) to the list\n",
    "for i in range(6, 101, 2):\n",
    "    my_list.append(i)\n",
    "print(my_list)"
   ]
  },
  {
   "cell_type": "code",
   "execution_count": 4,
   "id": "69a23604",
   "metadata": {},
   "outputs": [
    {
     "name": "stdout",
     "output_type": "stream",
     "text": [
      "1\n",
      "2\n",
      "3\n",
      "4\n",
      "5\n",
      "6\n",
      "8\n",
      "10\n",
      "12\n",
      "14\n"
     ]
    }
   ],
   "source": [
    "# TODO: Display the first 10 items of your list\n",
    "for i in my_list[:10]:\n",
    "    print(i)"
   ]
  },
  {
   "cell_type": "code",
   "execution_count": 12,
   "id": "e2ac95a5",
   "metadata": {},
   "outputs": [
    {
     "name": "stdout",
     "output_type": "stream",
     "text": [
      "     Survived  Pclass                                               Name  \\\n",
      "0           0       3                             Mr. Owen Harris Braund   \n",
      "1           1       1  Mrs. John Bradley (Florence Briggs Thayer) Cum...   \n",
      "2           1       3                              Miss. Laina Heikkinen   \n",
      "3           1       1        Mrs. Jacques Heath (Lily May Peel) Futrelle   \n",
      "4           0       3                            Mr. William Henry Allen   \n",
      "..        ...     ...                                                ...   \n",
      "882         0       2                               Rev. Juozas Montvila   \n",
      "883         1       1                        Miss. Margaret Edith Graham   \n",
      "884         0       3                     Miss. Catherine Helen Johnston   \n",
      "885         1       1                               Mr. Karl Howell Behr   \n",
      "886         0       3                                 Mr. Patrick Dooley   \n",
      "\n",
      "        Sex   Age  Siblings/Spouses Aboard  Parents/Children Aboard     Fare  \n",
      "0      male  22.0                        1                        0   7.2500  \n",
      "1    female  38.0                        1                        0  71.2833  \n",
      "2    female  26.0                        0                        0   7.9250  \n",
      "3    female  35.0                        1                        0  53.1000  \n",
      "4      male  35.0                        0                        0   8.0500  \n",
      "..      ...   ...                      ...                      ...      ...  \n",
      "882    male  27.0                        0                        0  13.0000  \n",
      "883  female  19.0                        0                        0  30.0000  \n",
      "884  female   7.0                        1                        2  23.4500  \n",
      "885    male  26.0                        0                        0  30.0000  \n",
      "886    male  32.0                        0                        0   7.7500  \n",
      "\n",
      "[887 rows x 8 columns]\n"
     ]
    }
   ],
   "source": [
    "# TODO: Open the titanic.csv file for reading\n",
    "import pandas as pd\n",
    "import os\n",
    "df = pd.read_csv('titanic.csv')\n",
    "\n",
    "print(df)"
   ]
  },
  {
   "cell_type": "code",
   "execution_count": 13,
   "id": "2e0787e3",
   "metadata": {},
   "outputs": [
    {
     "name": "stdout",
     "output_type": "stream",
     "text": [
      "   Survived  Pclass                                               Name  \\\n",
      "0         0       3                             Mr. Owen Harris Braund   \n",
      "1         1       1  Mrs. John Bradley (Florence Briggs Thayer) Cum...   \n",
      "2         1       3                              Miss. Laina Heikkinen   \n",
      "3         1       1        Mrs. Jacques Heath (Lily May Peel) Futrelle   \n",
      "4         0       3                            Mr. William Henry Allen   \n",
      "5         0       3                                    Mr. James Moran   \n",
      "6         0       1                             Mr. Timothy J McCarthy   \n",
      "7         0       3                      Master. Gosta Leonard Palsson   \n",
      "8         1       3   Mrs. Oscar W (Elisabeth Vilhelmina Berg) Johnson   \n",
      "9         1       2                 Mrs. Nicholas (Adele Achem) Nasser   \n",
      "\n",
      "      Sex   Age  Siblings/Spouses Aboard  Parents/Children Aboard     Fare  \n",
      "0    male  22.0                        1                        0   7.2500  \n",
      "1  female  38.0                        1                        0  71.2833  \n",
      "2  female  26.0                        0                        0   7.9250  \n",
      "3  female  35.0                        1                        0  53.1000  \n",
      "4    male  35.0                        0                        0   8.0500  \n",
      "5    male  27.0                        0                        0   8.4583  \n",
      "6    male  54.0                        0                        0  51.8625  \n",
      "7    male   2.0                        3                        1  21.0750  \n",
      "8  female  27.0                        0                        2  11.1333  \n",
      "9  female  14.0                        1                        0  30.0708  \n"
     ]
    }
   ],
   "source": [
    "# TODO: Print all the info for the first 10 passengers on the roster\n",
    "\n",
    "print(df[:10])"
   ]
  },
  {
   "cell_type": "code",
   "execution_count": 17,
   "id": "199a8408",
   "metadata": {},
   "outputs": [
    {
     "name": "stdout",
     "output_type": "stream",
     "text": [
      "342\n"
     ]
    }
   ],
   "source": [
    "# TODO: Find the number of people who survived\n",
    "#fn.seek(0)\n",
    "print(sum(df[\"Survived\"]))"
   ]
  },
  {
   "cell_type": "code",
   "execution_count": 24,
   "id": "46c4c47f",
   "metadata": {},
   "outputs": [
    {
     "data": {
      "text/plain": [
       "109"
      ]
     },
     "execution_count": 24,
     "metadata": {},
     "output_type": "execute_result"
    }
   ],
   "source": [
    "# TODO: Find the number of males who perished\n",
    "#fin.seek(0)\n",
    "sum(1 for (sex, survived) in zip(df[\"Sex\"], df[\"Survived\"]) if sex == \"male\" and survived == 1)"
   ]
  },
  {
   "cell_type": "code",
   "execution_count": 29,
   "id": "394f5ab9",
   "metadata": {},
   "outputs": [
    {
     "name": "stdout",
     "output_type": "stream",
     "text": [
      "573\n"
     ]
    }
   ],
   "source": [
    "# TODO: Find the TOTAL number of males aboard\n",
    "print(sum(1 for i in df[\"Sex\"] if i == \"male\"))"
   ]
  },
  {
   "cell_type": "code",
   "execution_count": 33,
   "id": "a3ef1fd2",
   "metadata": {},
   "outputs": [
    {
     "name": "stdout",
     "output_type": "stream",
     "text": [
      "32.305420180383386\n"
     ]
    }
   ],
   "source": [
    "# TODO: Find the average ticket cost. Try breaking your code into multiple cells.\n",
    "print(sum(df['Fare']/len(df[\"Fare\"])))\n",
    "\n",
    "# fin.seek(0)\n",
    "# fin.readline()\n",
    "# ticketCosts = []\n",
    "\n",
    "# HINT: Do a for-loop here"
   ]
  },
  {
   "cell_type": "code",
   "execution_count": 11,
   "id": "acf907d8",
   "metadata": {},
   "outputs": [],
   "source": [
    "# TODO: Come up with one more interesting fact you can deduce from the dataset (i.e., across multiple passengers).\n",
    "#       Write a Python statement that finds and prints it. \n",
    "#       Also leave at least one single-line comment that explains what you're doing.\n"
   ]
  },
  {
   "cell_type": "code",
   "execution_count": 39,
   "id": "dcdf83ba",
   "metadata": {},
   "outputs": [
    {
     "data": {
      "text/plain": [
       "234"
      ]
     },
     "execution_count": 39,
     "metadata": {},
     "output_type": "execute_result"
    }
   ],
   "source": [
    "# Finding the number of possible spouses\n",
    "marriagable_of_gender = lambda g: (sum(1 for sex,age in zip(df[\"Sex\"], df[\"Age\"]) if age > 18 and sex == g))\n",
    "min(marriagable_of_gender(\"male\"), marriagable_of_gender(\"female\"))"
   ]
  },
  {
   "cell_type": "code",
   "execution_count": null,
   "id": "5995d858",
   "metadata": {},
   "outputs": [],
   "source": []
  }
 ],
 "metadata": {
  "kernelspec": {
   "display_name": "Python 3 (ipykernel)",
   "language": "python",
   "name": "python3"
  },
  "language_info": {
   "codemirror_mode": {
    "name": "ipython",
    "version": 3
   },
   "file_extension": ".py",
   "mimetype": "text/x-python",
   "name": "python",
   "nbconvert_exporter": "python",
   "pygments_lexer": "ipython3",
   "version": "3.11.4"
  }
 },
 "nbformat": 4,
 "nbformat_minor": 5
}
