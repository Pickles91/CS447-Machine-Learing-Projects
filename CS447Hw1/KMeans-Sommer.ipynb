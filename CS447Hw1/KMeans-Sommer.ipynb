{
 "cells": [
  {
   "cell_type": "code",
   "execution_count": 1,
   "id": "27ee90a6",
   "metadata": {},
   "outputs": [],
   "source": [
    "# Author: Steve Sommer\n",
    "# Date: 9/29/2023\n",
    "# Assignment: Homework1\n",
    "# Due: Sep 29, 2023 11:59 PM"
   ]
  },
  {
   "cell_type": "code",
   "execution_count": 59,
   "id": "b6b8ba89",
   "metadata": {},
   "outputs": [],
   "source": [
    "import math\n",
    "import matplotlib.pyplot as plt\n",
    "from matplotlib import rcParams\n",
    "import numpy as np"
   ]
  },
  {
   "cell_type": "code",
   "execution_count": 60,
   "id": "90c02ad4",
   "metadata": {},
   "outputs": [],
   "source": [
    "'''\n",
    "scatterPlt is the same function we used in lab 2. You can call\n",
    "    it to plot the points and centroids--as long as dimensions = 2.\n",
    "'''\n",
    "def scatterPlt(allCoords,centroids):\n",
    "    xCoors = [allCoords[i][0] for i in range(len(allCoords))]\n",
    "    yCoors = [allCoords[i][1] for i in range(len(allCoords))]\n",
    "    xCen   = [centroids[i][0] for i in range(len(centroids))]\n",
    "    yCen   = [centroids[i][1] for i in range(len(centroids))]\n",
    "    \n",
    "    print(xCoors)\n",
    "    print(yCoors)\n",
    "    \n",
    "    plt.scatter(xCoors, yCoors, c=\"g\", alpha=0.5)\n",
    "    plt.scatter(xCen, yCen, s=4*(rcParams['lines.markersize'] ** 2), c=\"r\", alpha=1.0)\n",
    "    plt.xlabel(\"X\")\n",
    "    plt.ylabel(\"Y\")\n",
    "    \n",
    "    plt.show()"
   ]
  },
  {
   "cell_type": "code",
   "execution_count": 61,
   "id": "9faa618f",
   "metadata": {},
   "outputs": [],
   "source": [
    "'''\n",
    "TODO: Write a function that will open the file passed in \n",
    "        and read the data points from the file. You can\n",
    "        assume all data points will have the same number of\n",
    "        dimensions.\n",
    "      You should store each point as an array of floats, with \n",
    "        each point being an additional element in the list.\n",
    "        See lab2 for an example of how to do this.\n",
    "        \n",
    "INPUT:  String that references csv file with all your datapoints,\n",
    "            each stored as a comma-separated value on a new line.\n",
    "            \n",
    "OUTPUT: Return the list of data points read from file.\n",
    "'''\n",
    "\n",
    "def get_data_points_from_file(dataPointsFile):\n",
    "    dataPoints = []\n",
    "    fin = open(dataPointsFile,\"r\")\n",
    "    file_content = fin.read()\n",
    "    lines = file_content.split(\"\\n\")\n",
    "    \n",
    "    #HINT: Read line by line using for-loop\n",
    "    for line in lines:\n",
    "        if line == '':\n",
    "            continue\n",
    "        values = line.split(',')\n",
    "        data_point = []\n",
    "        for value in values:\n",
    "            if value == '':\n",
    "                continue\n",
    "            data_point.append(float(value))\n",
    "        dataPoints.append(data_point)\n",
    "                \n",
    "       \n",
    "    #HINT: Don't forget to close file\n",
    "    fin.close()\n",
    "    \n",
    "    return dataPoints"
   ]
  },
  {
   "cell_type": "code",
   "execution_count": 62,
   "id": "1d23cd5f",
   "metadata": {},
   "outputs": [],
   "source": [
    "'''\n",
    "TODO: Write another function that will open the file passed in \n",
    "        and read the centroids from the file. Once more, you can\n",
    "        assume all data points will have the same number of\n",
    "        dimensions.\n",
    "      You should store each point as an array of floats, with \n",
    "        each point being an additional element in the list.\n",
    "        \n",
    "INPUT:  String that references csv file with all your centroids,\n",
    "            each stored as a comma-separated value on a new line.\n",
    "            \n",
    "RETURN: Python list of data points read from file.\n",
    "'''\n",
    "\n",
    "def get_centroids_from_file(centroidsFile):\n",
    "    #HINT: Go thru line by line using for-loop\n",
    "    \n",
    "    centroids = []\n",
    "    fin = open(centroidsFile,\"r\")\n",
    "    file_content = fin.read()\n",
    "    lines = file_content.split(\"\\n\")\n",
    "    \n",
    "    #HINT: Read line by line using for-loop\n",
    "    for line in lines:\n",
    "        if line == '':\n",
    "            continue\n",
    "        values = line.split(',')\n",
    "        centroid = []\n",
    "        for value in values:\n",
    "            if value == '':\n",
    "                continue\n",
    "            centroid.append(float(value))\n",
    "        centroids.append(centroid)\n",
    "                \n",
    "       \n",
    "    #HINT: Don't forget to close file\n",
    "    fin.close()\n",
    "    \n",
    "    \n",
    "    return centroids"
   ]
  },
  {
   "cell_type": "code",
   "execution_count": 63,
   "id": "9ce772ed",
   "metadata": {},
   "outputs": [],
   "source": [
    "'''\n",
    "TODO: Define a distance function that uses Euclidean (L2)\n",
    "        distance to determine how far two  points of an\n",
    "        arbitrary dimension are from one another. \n",
    "      You can assume the two points will have the same number\n",
    "        of dimensions.\n",
    "      The two points will each be passed in as arrays of floats,\n",
    "        each float value representing a dimension.\n",
    "      \n",
    "INPUT:  Two points, each represented as an array of floats.\n",
    "\n",
    "RETURN: Returns Euclidean (L2) distance between points. \n",
    "'''\n",
    "\n",
    "def get_distance(point1,point2):\n",
    "    # HINT: Use Euclidean distance here.\n",
    "    \n",
    "    if len(point1) != len(point2):\n",
    "        raise ValueError (\"Points must have the same number of dimensions\")\n",
    "    \n",
    "    distance = 0\n",
    "    for i in range (len(point1)):\n",
    "        distance += (point1[i] - point2[i]) ** 2\n",
    "    return math.sqrt(distance)"
   ]
  },
  {
   "cell_type": "code",
   "execution_count": 64,
   "id": "999ef4dc",
   "metadata": {},
   "outputs": [],
   "source": [
    "'''\n",
    "TODO: Define a function to find the cluster label (i.e., \n",
    "         the nearest centroid). In case of a tie, use the\n",
    "         centroid that occurs earliest in the list.\n",
    "         \n",
    "INPUT: A single point, represented as an array of floats, one\n",
    "            float value per dimension.\n",
    "        \n",
    "RETURN: The *INDEX* of the nearest centroid, as stored in\n",
    "            your centroids array.\n",
    "'''\n",
    "\n",
    "def get_nearest_centroid(myPoint, myCentroids):\n",
    "    leastDist = get_distance(myPoint,myCentroids[0])\n",
    "    closestCent = 0\n",
    "    \n",
    "    #HINT: Use for-loop to find closest centroid\n",
    "    #      You should call your get_distance() function to help do this.\n",
    "    \n",
    "    for i in range(1, len(myCentroids)):\n",
    "        distance = get_distance(myPoint,myCentroids[i])\n",
    "        if distance < leastDist:\n",
    "            leastDist = distance\n",
    "            closestCent = i\n",
    "            \n",
    "    return closestCent"
   ]
  },
  {
   "cell_type": "code",
   "execution_count": 65,
   "id": "e734b51b",
   "metadata": {},
   "outputs": [],
   "source": [
    "'''\n",
    "TODO: Define a function that re-centers the centroids after\n",
    "        all points have been assigned.\n",
    "        \n",
    "INPUT: Your list of data points, your list of cluster labels,\n",
    "        your list of current centroids.\n",
    "        \n",
    "RETURN: An array of your newly calculated centroids, where\n",
    "        each centroid is stored as an array of floats.\n",
    "'''\n",
    "\n",
    "def recalibrate_centroids(myDataPoints, myLabels, myCentroids):\n",
    "    # Array to keep track of all new centroids\n",
    "    newCentArr = []\n",
    "    # Iterate thru all existing clusters (i.e., myCentroids) one at a time\n",
    "    for i in range(len(myCentroids)):\n",
    "        # Create an array that will hold all dimensions\n",
    "        # Append all zeros for now. You'll go thru and add\n",
    "        #    to each of these when you're summing up all dimensions\n",
    "        #    across all points.\n",
    "        \n",
    "        # Note the use of Python's \"list comprehension.\" We haven't\n",
    "        #    talked about this yet, but it allows you to collapse\n",
    "        #    multiple lines of Python into one.\n",
    "        # This line will create an array of floats with value 0.0. It will\n",
    "        #    create one value for each dimension\n",
    "        newCent = [0.0 for i in range(len(myCentroids[0]))]\n",
    "        \n",
    "        # Keep track of how many points we're averaging across for this\n",
    "        #    centroid. (This value will become the denominator in the the\n",
    "        #    mathematical average.)\n",
    "        ptCount = 0 \n",
    "\n",
    "        # HINT: Iterate thru all data points and add each of the dimensions to the running\n",
    "        #    total in newCent[] array\n",
    "        for j in range(len(myDataPoints)):\n",
    "            # HINT: Check if current data point \"currentPoint\" belongs to cluster we're looking at\n",
    "            #         (in outer for-loop). If so, add each of currentPoint's dimensions to the\n",
    "            #         running total in newCent[] array.\n",
    "            #       You'll also want to increase your ptCount value\n",
    "            if myLabels[j] == i:\n",
    "                newCent[0] += myDataPoints[j][0]\n",
    "                newCent[1] += myDataPoints[j][1]\n",
    "                ptCount += 1\n",
    "         \n",
    "        # HINT: Now that you're done summing up the values across all points, divide each dimension\n",
    "        #         by the number of points belonging to that cluster (i.e., ptCount)\n",
    "        newX = newCent[0] / ptCount\n",
    "        newY = newCent[1] / ptCount\n",
    "          \n",
    "        # HINT: What you've just calculated is a single new centroid. \n",
    "        #          Add this centroid to the new array.\n",
    "        newCentArr.append([newX, newY])\n",
    "    \n",
    "    # Return the new centroid array\n",
    "    return newCentArr"
   ]
  },
  {
   "cell_type": "code",
   "execution_count": 66,
   "id": "c5ec3843",
   "metadata": {},
   "outputs": [],
   "source": [
    "'''\n",
    "TODO: Write a function that will re-assign all points to new centroids.\n",
    "      Hint: You'll need to call your get_nearest_centroid() function.\n",
    "      \n",
    "INPUT: Your list of data points and your list of centroids.\n",
    "\n",
    "RETURN: Your new list of cluster memberships. This will be a list of\n",
    "        *INDICES* to your cluster array.\n",
    "'''\n",
    "\n",
    "def assign_data_points(myDataPoints, myCentroids):\n",
    "    clustLabels = []\n",
    "    \n",
    "    # HINT: Use your get_nearest_centroid() function to find which centroid\n",
    "    #          is closest.\n",
    "    for data_point in myDataPoints:\n",
    "        nearest_centroid_index = get_nearest_centroid(data_point, myCentroids)\n",
    "        clustLabels.append(nearest_centroid_index)\n",
    "        \n",
    "    return clustLabels"
   ]
  },
  {
   "cell_type": "code",
   "execution_count": 67,
   "id": "7d72c4ba",
   "metadata": {},
   "outputs": [],
   "source": [
    "'''\n",
    "TODO: Define a function to find distortion.\n",
    "\n",
    "INPUT: Your list of data points, your list of cluster labels, and your\n",
    "        list of centroids.\n",
    "        \n",
    "RETURN: The total distortion across all points. The formula for this\n",
    "        can be found in the slides we covered in lecture.\n",
    "'''\n",
    "\n",
    "def get_distortion(myDataPoints, myLabels, myCentroids):\n",
    "    totalDist = 0.0\n",
    "    \n",
    "    for i in range(len(myDataPoints)):\n",
    "        centroid_index = myLabels[i]\n",
    "        data_point = myDataPoints[i]\n",
    "        centroid = myCentroids[centroid_index]\n",
    "        distance = get_distance(data_point, centroid) ** 2\n",
    "        totalDist += distance\n",
    "        \n",
    "    return totalDist  "
   ]
  },
  {
   "cell_type": "code",
   "execution_count": 68,
   "id": "ff6bed15",
   "metadata": {},
   "outputs": [],
   "source": [
    "'''\n",
    "TODO: Do KMeans while distortion ratio between two runs stays\n",
    "        above 0.01 and number of iters doesn't exceed 25.\n",
    "      Note that this is where you'll call your assign_data_points()\n",
    "        and recalibrate_centroids() functions on each iteration.\n",
    "      You'll also need to calculate the distortion for the current \n",
    "        iteration and also keep track of previous iteration's distortion.\n",
    "      See comments below.\n",
    "      \n",
    "INPUT: Your list of data points and your list of centroids.\n",
    "\n",
    "RETURN: Your list of cluster labels, your list of centroids, and the \n",
    "        number of iterations (i) KMeans ran.\n",
    "        \n",
    "'''\n",
    "\n",
    "def do_KMeans(myDataPoints, myCentroids):\n",
    "    prevDist = 0.001\n",
    "    thisDist = 0.0\n",
    "    \n",
    "    # Keep track of number of iterations\n",
    "    i = 0\n",
    "    while(i < 25):  # Cap the number of iterations at 25\n",
    "        \n",
    "        # HINT: 1. Call assign_data_points() using the correct arguments\n",
    "        #       Store the return value (all the cluster assignments).\n",
    "        clustLabels = assign_data_points(myDataPoints, myCentroids)\n",
    "\n",
    "        # HINT: 2. Call recalibrate_centroids() with the correct arguments.\n",
    "        #       One of these arguments will be the result of step (1).\n",
    "        myCentroids = recalibrate_centroids(myDataPoints, clustLabels, myCentroids)\n",
    "        \n",
    "        # HINT: 3. Calculate distortion for the current assignment of data points.\n",
    "        #       You'll use your get_distortion() function with the correct arguments.\n",
    "        #       Store the result in a variable called \"thisDist\", which is used below.\n",
    "        thisDist = get_distortion(myDataPoints, clustLabels, myCentroids)\n",
    "        \n",
    "        # Increase iter counter\n",
    "        # If proportional distortion is small enough (i.e., little change in clusters\n",
    "        #    since last iterations), break loop. Else, keep going.\n",
    "        i += 1\n",
    "        if i == 1:\n",
    "            prevDist = thisDist\n",
    "            continue\n",
    "         \n",
    "        # Need abs here, since we don't want the sign value.\n",
    "        elif abs( (thisDist-prevDist) / prevDist ) < 0.01:\n",
    "            break\n",
    "            \n",
    "        else:\n",
    "            prevDist = thisDist\n",
    "      \n",
    "    # Return cluster membership, new centroids, and the number of iters run\n",
    "    # Note that, in Python, these can all be returned at the same time.\n",
    "    return clustLabels, myCentroids, i"
   ]
  },
  {
   "cell_type": "code",
   "execution_count": 69,
   "id": "20e82fec",
   "metadata": {},
   "outputs": [],
   "source": [
    "###################################################\n",
    "# Code below will call your functions.\n",
    "###################################################"
   ]
  },
  {
   "cell_type": "code",
   "execution_count": 70,
   "id": "0902e39d",
   "metadata": {},
   "outputs": [
    {
     "name": "stdout",
     "output_type": "stream",
     "text": [
      "[[1.0, 5.78], [17.3, 9.7], [21.8, 22.0], [-6.2, 2.0], [-9.0, 17.0], [7.0, 8.99], [3.6, 11.3], [23.1, 18.3], [2.0, 25.8], [9.87, 2.24]]\n"
     ]
    }
   ],
   "source": [
    "#TODO: Open your data_points file and store the points in a list\n",
    "data = get_data_points_from_file(\"data_points.csv\")\n",
    "print(data)"
   ]
  },
  {
   "cell_type": "code",
   "execution_count": 71,
   "id": "deaabc32",
   "metadata": {},
   "outputs": [
    {
     "name": "stdout",
     "output_type": "stream",
     "text": [
      "[[-3.3, -1.0], [0.0, 0.0], [9.0, 11.2]]\n"
     ]
    }
   ],
   "source": [
    "#TODO: Open your centroids file and store the centroids in another list\n",
    "centroids = get_centroids_from_file(\"centroids.csv\")\n",
    "print(centroids)"
   ]
  },
  {
   "cell_type": "code",
   "execution_count": 72,
   "id": "0eb2dec8",
   "metadata": {},
   "outputs": [
    {
     "name": "stdout",
     "output_type": "stream",
     "text": [
      "[1.0, 17.3, 21.8, -6.2, -9.0, 7.0, 3.6, 23.1, 2.0, 9.87]\n",
      "[5.78, 9.7, 22.0, 2.0, 17.0, 8.99, 11.3, 18.3, 25.8, 2.24]\n"
     ]
    },
    {
     "data": {
      "image/png": "[encoded data removed]",
      "text/plain": [
       "<Figure size 640x480 with 1 Axes>"
      ]
     },
     "metadata": {},
     "output_type": "display_data"
    }
   ],
   "source": [
    "#TODO: Plot points before using KMeans\n",
    "scatterPlt(data,centroids)"
   ]
  },
  {
   "cell_type": "code",
   "execution_count": 73,
   "id": "ee8c39cc",
   "metadata": {},
   "outputs": [],
   "source": [
    "#TODO: Run your KMeans function on your datapoints and centroids.\n",
    "#      Store labels, centroids, and iters that are returned.\n",
    "myLabels = []\n",
    "iters = 0\n",
    "myLabels, centroids, iters = do_KMeans(data,centroids)"
   ]
  },
  {
   "cell_type": "code",
   "execution_count": 74,
   "id": "8d9eee44",
   "metadata": {},
   "outputs": [
    {
     "name": "stdout",
     "output_type": "stream",
     "text": [
      "3\n"
     ]
    }
   ],
   "source": [
    "#Print iterations taken to converge\n",
    "print(iters)"
   ]
  },
  {
   "cell_type": "code",
   "execution_count": 75,
   "id": "07adb2cd",
   "metadata": {},
   "outputs": [
    {
     "name": "stdout",
     "output_type": "stream",
     "text": [
      "[[-7.6, 9.5], [5.3675, 7.077500000000001], [16.05, 18.95]]\n"
     ]
    }
   ],
   "source": [
    "#Print centroids\n",
    "print(centroids)"
   ]
  },
  {
   "cell_type": "code",
   "execution_count": 76,
   "id": "69c29818",
   "metadata": {},
   "outputs": [
    {
     "name": "stdout",
     "output_type": "stream",
     "text": [
      "[1, 2, 2, 0, 0, 1, 1, 2, 2, 1]\n"
     ]
    }
   ],
   "source": [
    "#Print cluster memberships\n",
    "print(myLabels)"
   ]
  },
  {
   "cell_type": "code",
   "execution_count": 77,
   "id": "c4146247",
   "metadata": {},
   "outputs": [
    {
     "name": "stdout",
     "output_type": "stream",
     "text": [
      "[1.0, 17.3, 21.8, -6.2, -9.0, 7.0, 3.6, 23.1, 2.0, 9.87]\n",
      "[5.78, 9.7, 22.0, 2.0, 17.0, 8.99, 11.3, 18.3, 25.8, 2.24]\n"
     ]
    },
    {
     "data": {
      "image/png": "[encoded data removed]",
      "text/plain": [
       "<Figure size 640x480 with 1 Axes>"
      ]
     },
     "metadata": {},
     "output_type": "display_data"
    }
   ],
   "source": [
    "# TODO:  Plot points and centroids after using KMeans\n",
    "\n",
    "scatterPlt(data,centroids)"
   ]
  },
  {
   "cell_type": "code",
   "execution_count": null,
   "id": "63d30438",
   "metadata": {},
   "outputs": [],
   "source": [
    "# TODO: Try running the sci-kit learn KMeans function like we did in lab.\n",
    "#       See if you get the same plot as you did after running your own \n",
    "#          function in the cell above.\n"
   ]
  },
  {
   "cell_type": "code",
   "execution_count": null,
   "id": "ebbaab08",
   "metadata": {},
   "outputs": [],
   "source": [
    "# TODO: Read in all data points from the wine dataset. \n",
    "#       After your points are read in, store the label (i.e., the last column)\n",
    "#          from each point in a separate list and remove it from the data point.\n"
   ]
  },
  {
   "cell_type": "code",
   "execution_count": null,
   "id": "dc1ba42a",
   "metadata": {},
   "outputs": [],
   "source": [
    "# TODO: Create two random centroids.\n"
   ]
  },
  {
   "cell_type": "code",
   "execution_count": null,
   "id": "a6751932",
   "metadata": {},
   "outputs": [],
   "source": [
    "# TODO: Repeat the steps above on these new wine data points and centroids.\n"
   ]
  },
  {
   "cell_type": "code",
   "execution_count": null,
   "id": "6e5805fa",
   "metadata": {},
   "outputs": [],
   "source": [
    "# TODO: What are the cluster memberships for the wines? Is there any \n",
    "#          relationship between the memberships and the actual labels?\n",
    "#       (Recall you stored the labels in a separate array before clustering.)\n"
   ]
  }
 ],
 "metadata": {
  "kernelspec": {
   "display_name": "Python 3 (ipykernel)",
   "language": "python",
   "name": "python3"
  },
  "language_info": {
   "codemirror_mode": {
    "name": "ipython",
    "version": 3
   },
   "file_extension": ".py",
   "mimetype": "text/x-python",
   "name": "python",
   "nbconvert_exporter": "python",
   "pygments_lexer": "ipython3",
   "version": "3.11.4"
  }
 },
 "nbformat": 4,
 "nbformat_minor": 5
}
